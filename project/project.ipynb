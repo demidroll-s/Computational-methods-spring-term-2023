{
 "cells": [
  {
   "cell_type": "markdown",
   "id": "1b08b4fa",
   "metadata": {},
   "source": [
    "#### Вычислительная математика, 2023\n",
    "## Расчет дебита горизонтальной скважины с контролем постоянного забойного давления в бесконечном пласте в пространстве Лапласа"
   ]
  },
  {
   "cell_type": "markdown",
   "id": "946c884d",
   "metadata": {},
   "source": [
    "Одной из актуальных задач нефтяного промысла является оценка оптимального расположения скважин на территории разработки, а так же их параметров. Для решения этой задачи необходимо уметь рассчитать распределение давлений в пласте, а так же дебит скважины при заданных свойствах пласта и скважины. Традиционными инструментами для таких расчетов являются методы, использующие эмпирические корреляции, и методы, основанные на построении полномасштабной трехмерной модели пласта. Однако эти методы имеют недостатки: корреляции не учитывают особенностей конкретного пласта, и основанные на них расчеты хоть и быстрые, но имеют большую погрешность; а гидродинамическое моделирование требует большого числа вычислительных, временных и кадровых ресурсов для обеспечения необходимой точности.\n",
    "\n",
    "Компромиссным инструментом, позволяющим выполнить необходимые расчеты с достаточной скоростью и точностью, являются полуаналитические модели. Наиболее перспективными представляются модели, использующие при расчетах переход в пространство Лапласа. В этом пространстве уравнение пьезопроводности, описывающее перепад давления в пласте, принимает довольно простой вид и имеет аналитическое решение, а процедура возвращения из пространтсва Лапласа в исходное является вычислительно простой. Данный подход широко используется в программных обеспечениях для определения падения давления в скважин с постоянным дебитом ввиду простоты аналитических расчетов.\n",
    "\n",
    "Однако в случае скважины с постоянным забойным давлением расчеты становятся сложнее, и возникает необходимость использования численных методов для получения решения: зависимости дебита от времени в скважине сложной формы. Рассмотрим частный случай: модель горизонтальной скважины в бесконечном пласте с непроницаемыми верхней и нижней границей, насыщенным несжимаемым жидким флюидом с постоянными свойствами.\n",
    "\n",
    "Не вдаваясь в подробности вывода, приведем формулу безразмерного падения давления в пространстве Лапласа (1):\n",
    "$$\n",
    "\\overline{p_D} = \\frac{2 r_{wD} \\exp{(r_{wD}\\sqrt{u}})}{uh_D} \\left[\\int\\limits_{-1}^{+1}K_0\\left(\\sqrt{u}\\sqrt{(x_D-x_{0D}-\\alpha)^2 + (y_D-y_{0D})^2}\\right)d\\alpha +\n",
    "\\\\\n",
    "+ 2\\sum\\limits_{n=1}^{+\\infty}\\cos(\\pi n z_D/h_D)\\cos(\\pi n z_{0D}/h_D) \\int\\limits_{-1}^{+1}K_0\\left(\\sqrt{u + \\frac{n^2\\pi^2}{h^2_D}}\\sqrt{(x_D-x_{0D}-\\alpha)^2 + (y_D-y_{0D})^2}\\right)d\\alpha\\right]\n",
    "$$\n",
    "В пространстве Лапласа безразмерный дебит зависит от давления следующим образом (2):\n",
    "$$\n",
    "\\overline{q_D} = -\\oint\\limits_{S} \\frac{\\partial \\overline{p_D}(\\overrightarrow{r_D}, u)}{\\partial \\overrightarrow{l}}dS\n",
    "$$\n",
    "где $S$ - замкнутая поверхность.\n",
    "\n",
    "**Целью данного проекта является реализация алгоритма расчета безразмерного дебита (2) при заданном поле давлений (1).**"
   ]
  },
  {
   "cell_type": "markdown",
   "id": "a5520736",
   "metadata": {},
   "source": [
    "В рамках проекта будет реализовано:\n",
    "1. Вычисление интеграла от функции Бесселя\n",
    "2. Вычисление бесконечной суммы\n",
    "3. Интегрирование по замкнутой поверхности\n",
    "\n",
    "Вычисление интеграла функции Бесселя будет выполнено с помощью квадратур Гаусса. Этот метод выбран потому, что он дает хороший и быстрый результат. Интегрирование некоторой функции $f(x)$ с помощью квадратур Гаусса на n точках выглядит следующим образом: \n",
    "$$\n",
    "\\int\\limits^{+1}_{-1}f(x)dx \\approx \\sum\\limits^{n}_{i = 1} w_i f(x_i)\n",
    "$$\n",
    "где $x_i$ -- корни полинома Лежандра n-й степени, $w_i$ -- их веса. Для интегрирования на другом отрезке:\n",
    "$$\n",
    "\\int\\limits^{b}_{a}f(x)dx \\approx \\frac{b-a}{2} \\sum\\limits^{n}_{i = 1} w_i f\\left(\\frac{b-a}{2}x_i + \\frac{a+b}{2} \\right)\n",
    "$$\n",
    "Чтобы улучшить точность вычислений при $b-a >> 2$, можно разбить область интегрирования на отрезки и на каждом из них проинтегрировать функцию в квадратурах, и полученные интегралы сложить:\n",
    "$$\n",
    "\\int\\limits^{b}_{a}f(x)dx \\approx \\sum\\limits^{N}_{j = 1} \\frac{b_j-a_j}{2} \\sum\\limits^{n}_{i = 1}  w_i f\\left(\\frac{b_j-a_j}{2} x_i + \\frac{a_j+b_j}{2} \\right)\n",
    "$$\n",
    "На равномерной сетке:\n",
    "$$\n",
    "\\int\\limits^{b}_{a}f(x)dx \\approx \\frac{b-a}{2N} \\sum\\limits^{N}_{j = 1} \\sum\\limits^{n}_{i = 1}  w_i f\\left(\\frac{b-a}{2N} x_i + \\frac{a_j+b_j}{2} \\right)\n",
    "$$\n",
    "\n",
    "Вычисление бесконечной суммы будет приближенным, поскольку учесть все члены ряда невозможно. Поэтому необходимо как-то определить критерий останова. В данном случае выбран самый простой критерий: $|dI| < \\varepsilon |I|$, где $\\varepsilon << 1$ выбирается эмпирически.\n",
    "\n",
    "Интегрирование по замкнутой поверхности будет выполнено с учетом физических особенностей задачи. Поскольку речь идет о потоке несжимаемой жидкости, то по закону сохранения массы, поток жидкости к скважине не будет зависеть от формы выбранной вокруг нее поверхности $S$. Поэтому в качестве такой поверхности будет целесообразно выбрать паралеллепипед, заключающий в себе скважину и паралельный ей. Тогда интеграл можно представить как сумму интегралов по сторонам параллелепипеда, а вычисление производной по направлению внутри каждого интеграла сведется к производной по одной из координат. Эти частные производные вычисляются аналитически:"
   ]
  },
  {
   "cell_type": "markdown",
   "id": "7ef59180",
   "metadata": {},
   "source": [
    "$$\n",
    "\\frac{\\partial \\overline{p_D}}{\\partial x_D} = -\\frac{2 r_{wD} e^{r_{wD}\\sqrt{u}}}{u h_D} \\left[ \\int\\limits_{-1}^{+1} K_1 \\left(\\sqrt{u}\\sqrt{(x_D-x_{0D}-\\alpha)^2 + (y_D-y_{0D})^2}\\right)\\frac{\\sqrt{u}(x_D-x_{0D}-\\alpha)}{\\sqrt{(x_D-x_{0D}-\\alpha)^2 + (y_D-y_{0D})^2}} d\\alpha +\n",
    "\\\\\n",
    "+ 2\\sum\\limits_{n=1}^{+\\infty}\\cos(\\pi n z_D/h_D)\\cos(\\pi n z_{0D}/h_D) \\int\\limits_{-1}^{+1} K_1 \\left(\\sqrt{u + \\frac{n^2\\pi^2}{h^2_D}}\\sqrt{(x_D-x_{0D}-\\alpha)^2 + (y_D-y_{0D})^2}\\right)\\frac{\\sqrt{u + \\frac{n^2\\pi^2}{h^2_D}}(x_D-x_{0D}-\\alpha)}{\\sqrt{(x_D-x_{0D}-\\alpha)^2 + (y_D-y_{0D})^2}} d\\alpha \\right]\n",
    "$$\n",
    "\n",
    "$$\n",
    "\\frac{\\partial \\overline{p_D}}{\\partial y_D} = -\\frac{2 r_{wD} e^{r_{wD}\\sqrt{u}}}{u h_D} \\left[ \\int\\limits_{-1}^{+1} K_1 \\left(\\sqrt{u}\\sqrt{(x_D-x_{0D}-\\alpha)^2 + (y_D-y_{0D})^2}\\right)\\frac{\\sqrt{u}(y_D-y_{0D})}{\\sqrt{(x_D-x_{0D}-\\alpha)^2 + (y_D-y_{0D})^2}} d\\alpha +\n",
    "\\\\\n",
    "+ 2\\sum\\limits_{n=1}^{+\\infty}\\cos(\\pi n z_D/h_D)\\cos(\\pi n z_{0D}/h_D) \\int\\limits_{-1}^{+1} K_1 \\left(\\sqrt{u + \\frac{n^2\\pi^2}{h^2_D}}\\sqrt{(x_D-x_{0D}-\\alpha)^2 + (y_D-y_{0D})^2}\\right)\\frac{\\sqrt{u + \\frac{n^2\\pi^2}{h^2_D}}(y_D-y_{0D})}{\\sqrt{(x_D-x_{0D}-\\alpha)^2 + (y_D-y_{0D})^2}} d\\alpha \\right]\n",
    "$$\n",
    "\n",
    "$$\n",
    "\\frac{\\partial \\overline{p_D}}{\\partial z_D} = -\\frac{4\\pi r_{wD} e^{r_{wD}\\sqrt{u}} }{u h_D^2} \\sum\\limits_{n=1}^{+\\infty} n \\sin(\\pi n z_D/h_D)\\cos(\\pi n z_{0D}/h_D) \\int\\limits_{-1}^{+1} K_0 \\left(\\sqrt{u + \\frac{n^2\\pi^2}{h^2_D}}\\sqrt{(x_D-x_{0D}-\\alpha)^2 + (y_D-y_{0D})^2}\\right) d\\alpha\n",
    "$$"
   ]
  },
  {
   "cell_type": "code",
   "execution_count": 31,
   "id": "9e8bb634",
   "metadata": {},
   "outputs": [],
   "source": [
    "import numpy as np\n",
    "import scipy as sp\n",
    "import scipy.special as ss\n",
    "import matplotlib.pyplot as plt"
   ]
  },
  {
   "cell_type": "code",
   "execution_count": 32,
   "id": "1eb40da4",
   "metadata": {},
   "outputs": [
    {
     "name": "stdout",
     "output_type": "stream",
     "text": [
      "2.2 4e-05 4e-05\n"
     ]
    }
   ],
   "source": [
    "lh = 200.        # длина горизонтальной скважины (м)\n",
    "norm = lh / 2\n",
    "rwd = 0.1 / norm # радиус скважины (безразм.)\n",
    "hd = 10. / norm  # мощность пласта (безразм.)\n",
    "x0d = 0. / norm  # координата середины горизонтальной скважины (безразм.)\n",
    "y0d = 0. / norm  # координата середины горизонтальной скважины (безразм.)\n",
    "z0d = hd / 2     # координата середины горизонтальной скважины (безразм.)\n",
    "\n",
    "# размеры поверхности-прямоугольника, скважина параллельна оси OX\n",
    "lxd = 1.1 * lh / norm\n",
    "lyd = 2 * 2 * rwd / norm\n",
    "lzd = 2 * 2 * rwd / norm\n",
    "print(lxd, lyd, lzd)"
   ]
  },
  {
   "cell_type": "code",
   "execution_count": 38,
   "id": "28c7f88b",
   "metadata": {},
   "outputs": [],
   "source": [
    "gauss_quadr_coef = [0.2955242247, 0.2692667193, 0.2190863625, 0.1494513492, 0.0666713443, 0.2955242247, 0.2692667193, 0.2190863625, 0.1494513492, 0.0666713443 ]\n",
    "gauss_quadr_argu = [0.1488743390, 0.4333953941, 0.6794095683, 0.8650633667, 0.9739065285, -0.1488743390, -0.4333953941, -0.6794095683, -0.8650633667, -0.9739065285 ]\n",
    "n_point = len(gauss_quadr_coef)\n",
    "n_point"
   ]
  },
  {
   "cell_type": "code",
   "execution_count": 46,
   "id": "1aa5b836",
   "metadata": {},
   "outputs": [
    {
     "data": {
      "text/plain": [
       "6"
      ]
     },
     "execution_count": 46,
     "metadata": {},
     "output_type": "execute_result"
    }
   ],
   "source": [
    "gauss_quadr_argu = [-0.9324700, -0.6612094, -0.2386142, 0.2386142, 0.6612094, 0.9324700]\n",
    "gauss_quadr_coef = [0.1713245, 0.3607616, 0.4679140, 0.4679140, 0.3607616, 0.1713245]\n",
    "n_point = len(gauss_quadr_coef)\n",
    "n_point"
   ]
  },
  {
   "cell_type": "code",
   "execution_count": 47,
   "id": "cb817cc2",
   "metadata": {},
   "outputs": [
    {
     "data": {
      "text/plain": [
       "1.7272116046140307"
      ]
     },
     "execution_count": 47,
     "metadata": {},
     "output_type": "execute_result"
    }
   ],
   "source": [
    "# интеграл от К_1 + sum(cos * cos * K_1 * x)\n",
    "def int_k1_x(u, dx, dy, z, z0, h):\n",
    "    N = 10\n",
    "    ba_2 = 1./N\n",
    "    I = 0.\n",
    "    arg_cos1 = np.pi * z / h\n",
    "    arg_cos2 = np.pi * z0 / h\n",
    "    for j in range(N):\n",
    "        a = -1. + j * (2. / N)\n",
    "        b = -1. + (j + 1) * (2. / N)\n",
    "        \n",
    "        for i in range(n_point):\n",
    "            alpha = 0.5 * (a + b) + ba_2 * gauss_quadr_argu[i]\n",
    "            arg = (dy**2 + (dx - alpha)**2)**(0.5)\n",
    "            I1 = 0.\n",
    "            \n",
    "            n = 0\n",
    "            eps_n = (u +  (np.pi * n / h)**2)**(0.5)\n",
    "            dI = ss.kn(1, eps_n * arg) * eps_n * (dx - alpha) / arg\n",
    "            \n",
    "            while (abs(dI) > 0.1 * abs (I1)):\n",
    "                I1 += 2 * dI * np.cos(n * arg_cos1) * np.cos(n * arg_cos2)\n",
    "                n += 1\n",
    "                eps_n = (u +  (np.pi * n / h)**2)**(0.5)\n",
    "                dI = ss.kn(1, eps_n * arg) * eps_n * (dx - alpha) / arg\n",
    "                \n",
    "            I += I1 * gauss_quadr_coef[i] * ba_2\n",
    "    \n",
    "    return I\n",
    "\n",
    "int_k1_x(29, lxd/2, 0, z0d, z0d, hd)"
   ]
  },
  {
   "cell_type": "code",
   "execution_count": 49,
   "id": "b39f35be",
   "metadata": {},
   "outputs": [
    {
     "data": {
      "text/plain": [
       "0.016278396854797463"
      ]
     },
     "execution_count": 49,
     "metadata": {},
     "output_type": "execute_result"
    }
   ],
   "source": [
    "# интеграл от К_1 + sum(cos * cos * K_1 * y)\n",
    "def int_k1_y(u, dx, dy, z, z0, h):\n",
    "    N = 10\n",
    "    ba_2 = 1./N\n",
    "    I = 0.\n",
    "    arg_cos1 = np.pi * z / h\n",
    "    arg_cos2 = np.pi * z0 / h\n",
    "    for j in range(N):\n",
    "        a = -1. + j * (2. / N)\n",
    "        b = -1. + (j + 1) * (2. / N)\n",
    "        \n",
    "        for i in range(n_point):\n",
    "            alpha = 0.5 * (a + b) + ba_2 * gauss_quadr_argu[i]\n",
    "            arg = (dy**2 + (dx - alpha)**2)**(0.5)\n",
    "            I1 = 0.\n",
    "            \n",
    "            n = 0\n",
    "            eps_n = (u +  (np.pi * n / h)**2)**(0.5)\n",
    "            dI = ss.kn(1, eps_n * arg) * eps_n * dy / arg\n",
    "            \n",
    "            while (abs(dI) > 0.1 * abs (I1)):\n",
    "                I1 += 2 * dI * np.cos(n * arg_cos1) * np.cos(n * arg_cos2)\n",
    "                n += 1\n",
    "                eps_n = (u +  (np.pi * n / h)**2)**(0.5)\n",
    "                dI = ss.kn(1, eps_n * arg) * eps_n * dy / arg\n",
    "                \n",
    "            I += I1 * gauss_quadr_coef[i] * ba_2\n",
    "    \n",
    "    return I\n",
    "\n",
    "int_k1_y(29, 0, lxd/2, z0d, z0d, hd)"
   ]
  },
  {
   "cell_type": "code",
   "execution_count": 76,
   "id": "8b7ffe18",
   "metadata": {},
   "outputs": [
    {
     "data": {
      "text/plain": [
       "0.00012361560217917625"
      ]
     },
     "execution_count": 76,
     "metadata": {},
     "output_type": "execute_result"
    }
   ],
   "source": [
    "# интеграл от К_0 + sum(sin * cos * K_0)\n",
    "def int_k0(u, dx, dy, z, z0, h):\n",
    "    N = 100\n",
    "    ba_2 = 1./N\n",
    "    I = 0.\n",
    "    arg_sin = np.pi * z / h\n",
    "    arg_cos = np.pi * z0 / h\n",
    "    \n",
    "    for j in range(N):\n",
    "        a = -1. + j * (2. / N)\n",
    "        b = -1. + (j + 1) * (2. / N)\n",
    "        \n",
    "        for i in range(n_point):\n",
    "            alpha = 0.5 * (a + b) + ba_2 * gauss_quadr_argu[i]\n",
    "            arg_k0 = (dy**2 + (dx - alpha)**2)**(0.5)\n",
    "            I1 = 0.\n",
    "            \n",
    "            n = 1\n",
    "            eps_n = (u +  (np.pi * n / h)**2)**(0.5)\n",
    "            dI = ss.kn(0, eps_n * arg_k0) / n\n",
    "            \n",
    "            while (abs(dI) > 0.01 * abs (I1)):\n",
    "                I1 += dI * np.sin(n * arg_sin) * np.cos(n * arg_cos)\n",
    "                n += 1\n",
    "                eps_n = (u +  (np.pi * n / h)**2)**(0.5)\n",
    "                dI = ss.kn(0, eps_n * arg_k0) / n\n",
    "                \n",
    "            I += I1 * gauss_quadr_coef[i] * ba_2 \n",
    "    \n",
    "    return I\n",
    "\n",
    "int_k0(29, 0, 0, z0d + lzd/2, z0d, hd)"
   ]
  },
  {
   "cell_type": "code",
   "execution_count": 51,
   "id": "b665e159",
   "metadata": {},
   "outputs": [
    {
     "data": {
      "text/plain": [
       "-0.0011976124229978653"
      ]
     },
     "execution_count": 51,
     "metadata": {},
     "output_type": "execute_result"
    }
   ],
   "source": [
    "# формула частной производной давления в пространстве Лапласа по x\n",
    "def dp_dx(u, x, y, z, x0, y0, z0, h, rw):\n",
    "    dx = x - x0\n",
    "    dy = y - y0\n",
    "    return -2 * rw * np.exp(rw * u**0.5) / (u * h) * int_k1_x(u, dx, dy, z, z0, h)\n",
    "\n",
    "dp_dx(29, lxd/2, 0, z0d, x0d, y0d, z0d, hd, rwd)"
   ]
  },
  {
   "cell_type": "code",
   "execution_count": 52,
   "id": "104d315b",
   "metadata": {},
   "outputs": [
    {
     "data": {
      "text/plain": [
       "-5.541547645553472e-05"
      ]
     },
     "execution_count": 52,
     "metadata": {},
     "output_type": "execute_result"
    }
   ],
   "source": [
    "# формула частной производной давления в пространстве Лапласа по y\n",
    "def dp_dy(u, x, y, z, x0, y0, z0, h, rw):\n",
    "    dx = x - x0\n",
    "    dy = y - y0\n",
    "    return -2 * rw * np.exp(rw * u**0.5) / (u * h) * int_k1_y(u, dx, dy, z, z0, h)\n",
    "\n",
    "dp_dy(29, 0, lyd/2, z0d, x0d, y0d, z0d, hd, rwd)"
   ]
  },
  {
   "cell_type": "code",
   "execution_count": 53,
   "id": "7ce26357",
   "metadata": {},
   "outputs": [
    {
     "data": {
      "text/plain": [
       "-7.886672689918168e-06"
      ]
     },
     "execution_count": 53,
     "metadata": {},
     "output_type": "execute_result"
    }
   ],
   "source": [
    "# формула частной производной давления в пространстве Лапласа по z\n",
    "def dp_dz(u, x, y, z, x0, y0, z0, h, rw):\n",
    "    dx = x - x0\n",
    "    dy = y - y0\n",
    "    return -4 * np.pi * rw * np.exp(rw * u**0.5) / (u * h * h) * int_k0(u, dx, dy, z, z0, h)\n",
    "\n",
    "dp_dz(29, 0, 0, z0d + lzd/2, x0d, y0d, z0d, hd, rwd)"
   ]
  },
  {
   "cell_type": "markdown",
   "id": "0e0f6f5f",
   "metadata": {},
   "source": [
    "Итак, интеграл по поверхности был сведен к следующему виду:\n",
    "$$\n",
    "\\overline{q_D} = -\\oint\\limits_{S} \\frac{\\partial \\overline{p_D}(\\overrightarrow{r_D}, u)}{\\partial \\overrightarrow{l}}dS = \n",
    "+ \\int\\limits_{x_0 - l_{x}/2}^{x_0 + l_{x}/2} dx\\int\\limits_{y_0 - l_{y}/2}^{y_0 + l_{y}/2} dy \\frac{\\partial \\overline{p_D}}{\\partial z_D}(z_{0} - l_{z}/2, u)\n",
    "- \\int\\limits_{x_0 - l_{x}/2}^{x_0 + l_{x}/2} dx\\int\\limits_{y_0 - l_{y}/2}^{y_0 + l_{y}/2} dy \\frac{\\partial \\overline{p_D}}{\\partial z_D}(z_{0} + l_{z}/2, u) +\n",
    "\\\\\n",
    "+ \\int\\limits_{x_0 - l_{x}/2}^{x_0 + l_{x}/2} dx\\int\\limits_{z_0 - l_{z}/2}^{z_0 + l_{z}/2} dz \\frac{\\partial \\overline{p_D}}{\\partial y_D}(y_{0} - l_{y}/2, u)\n",
    "- \\int\\limits_{x_0 - l_{x}/2}^{x_0 + l_{x}/2} dx\\int\\limits_{z_0 - l_{z}/2}^{z_0 + l_{z}/2} dz \\frac{\\partial \\overline{p_D}}{\\partial y_D}(y_{0} + l_{y}/2, u) +\n",
    "\\\\\n",
    "+ \\int\\limits_{y_0 - l_{y}/2}^{y_0 + l_{y}/2} dy\\int\\limits_{z_0 - l_{z}/2}^{z_0 + l_{z}/2} dz \\frac{\\partial \\overline{p_D}}{\\partial x_D}(x_{0} - l_{x}/2, u)\n",
    "- \\int\\limits_{y_0 - l_{y}/2}^{y_0 + l_{y}/2} dx\\int\\limits_{z_0 - l_{z}/2}^{z_0 + l_{z}/2} dz \\frac{\\partial \\overline{p_D}}{\\partial x_D}(x_{0} + l_{x}/2, u) =\n",
    "\\\\\n",
    "= +\\int\\limits_{x_0 - l_{x}/2}^{x_0 + l_{x}/2} dx\\int\\limits_{y_0 - l_{y}/2}^{y_0 + l_{y}/2} dy \\frac{\\partial \\overline{p_D}}{\\partial z_D}(z_{0} - l_{z}/2, u)\n",
    "-\\int\\limits_{x_0 - l_{x}/2}^{x_0 + l_{x}/2} dx\\int\\limits_{y_0 - l_{y}/2}^{y_0 + l_{y}/2} dy \\frac{\\partial \\overline{p_D}}{\\partial z_D}(z_{0} + l_{z}/2, u) +\n",
    "\\\\\n",
    "+ 2 \\int\\limits_{x_0 - l_{x}/2}^{x_0 + l_{x}/2} dx\\int\\limits_{z_0 - l_{z}/2}^{z_0 + l_{z}/2} dz \\frac{\\partial \\overline{p_D}}{\\partial y_D}(y_{0} - l_{y}/2, u) + 2 \\int\\limits_{y_0 - l_{y}/2}^{y_0 + l_{y}/2} dy\\int\\limits_{z_0 - l_{z}/2}^{z_0 + l_{z}/2} dz \\frac{\\partial \\overline{p_D}}{\\partial x_D}(x_{0} - l_{x}/2, u)\n",
    "$$\n",
    "Последнее равенство обусловлено симметричностью задачи вдоль осей OX и OY."
   ]
  },
  {
   "cell_type": "code",
   "execution_count": 61,
   "id": "8976af08",
   "metadata": {},
   "outputs": [
    {
     "data": {
      "text/plain": [
       "1.416147005630988"
      ]
     },
     "execution_count": 61,
     "metadata": {},
     "output_type": "execute_result"
    }
   ],
   "source": [
    "# ранее интегрирование было прописано внутри функций частных производных\n",
    "# ввиду необходимости производить бесконечное суммирование.\n",
    "# далее интегрирование будет производиться функцией ниже:\n",
    "def int_gaus(func, a, b):\n",
    "    N = 5\n",
    "    h = (b - a) / N\n",
    "    I1 = 0.\n",
    "    for j in range(N):\n",
    "        aj = a + j * h\n",
    "        bj = a + (j + 1) * h\n",
    "        for i in range(n_point):\n",
    "            x = 0.5 * (aj + bj) + 0.5 * h * gauss_quadr_argu[i]\n",
    "            I1 += gauss_quadr_coef[i] * func(x)\n",
    "    I = I1 * h * 0.5\n",
    "    # print(\"int1\")\n",
    "    return I\n",
    "\n",
    "prob = lambda x: np.sin(x)\n",
    "int_gaus(prob, 0, 2)"
   ]
  },
  {
   "cell_type": "code",
   "execution_count": 63,
   "id": "8fbdc940",
   "metadata": {},
   "outputs": [
    {
     "data": {
      "text/plain": [
       "2.8322943941195238"
      ]
     },
     "execution_count": 63,
     "metadata": {},
     "output_type": "execute_result"
    }
   ],
   "source": [
    "# двойной интеграл:\n",
    "def int2_gaus(func, a1, b1, a2, b2):\n",
    "    N = 3\n",
    "    h = (b2 - a2) / N\n",
    "    I2 = 0.\n",
    "    for j in range(N):\n",
    "        aj = a2 + j * h\n",
    "        bj = a2 + (j + 1) * h\n",
    "        for i in range(n_point):\n",
    "            y = 0.5 * (aj + bj) + 0.5 * h * gauss_quadr_argu[i]\n",
    "            int_func = int_gaus(lambda x: func(x, y), a1, b1)\n",
    "            I2 += gauss_quadr_coef[i] * int_func\n",
    "    I = I2 * h * 0.5\n",
    "    # print(\"int2\")\n",
    "    return I\n",
    "\n",
    "prob = lambda x, y: x * np.sin(y)\n",
    "int2_gaus(prob, 0, 2, 0, 2)"
   ]
  },
  {
   "cell_type": "code",
   "execution_count": 86,
   "id": "e25be371",
   "metadata": {},
   "outputs": [
    {
     "data": {
      "text/plain": [
       "6.548537097280328e-08"
      ]
     },
     "execution_count": 86,
     "metadata": {},
     "output_type": "execute_result"
    }
   ],
   "source": [
    "# расчет безразмерного дебита в пространстве Лапласа\n",
    "\n",
    "def q_computation(u, x0, y0, z0, h, rw, lx, ly, lz):\n",
    "    x1 = x0 - lx / 2\n",
    "    x2 = x0 + lx / 2\n",
    "    y1 = y0 - ly / 2\n",
    "    y2 = y0 + ly / 2\n",
    "    z1 = z0 - lz / 2\n",
    "    z2 = z0 + lz / 2\n",
    "    \n",
    "    dp_dz_z1 = lambda x_, y_: dp_dz(u, x_, y_, z1, x0, y0, z0, h, rw)\n",
    "    dp_dz_z2 = lambda x_, y_: dp_dz(u, x_, y_, z2, x0, y0, z0, h, rw)\n",
    "    dp_dy_y1 = lambda x_, z_: dp_dy(u, x_, y1, z_, x0, y0, z0, h, rw)\n",
    "    dp_dx_x1 = lambda y_, z_: dp_dx(u, x1, y_, z_, x0, y0, z0, h, rw)\n",
    "    \n",
    "    I1 = int2_gaus(dp_dz_z1, x1, x2, y1, y2)\n",
    "    #print(\"I1 =\", I1)\n",
    "    I2 = - int2_gaus(dp_dz_z2, x1, x2, y1, y2) \n",
    "    #print(\"I2 =\", I2)\n",
    "    I3 = 2 * int2_gaus(dp_dy_y1, x1, x2, z1, z2)\n",
    "    #print(\"I3 =\", I3)\n",
    "    I4 = 2 * int2_gaus(dp_dx_x1, y1, y2, z1, z2)\n",
    "    #print(\"I4 =\", I4)\n",
    "    \n",
    "    return I1 + I2 + I3 + I4\n",
    "\n",
    "q_computation(29, x0d, y0d, z0d, hd, rwd, lxd, lyd, lzd)"
   ]
  },
  {
   "cell_type": "code",
   "execution_count": 82,
   "id": "09aee5ac",
   "metadata": {},
   "outputs": [],
   "source": [
    "arr_u = [29.264616,\n",
    "14.632308,\n",
    "9.754872,\n",
    "7.316154,\n",
    "5.852923,\n",
    "4.877436,\n",
    "4.180659,\n",
    "3.658077,\n",
    "2.898003,\n",
    "2.301980,\n",
    "1.828524,\n",
    "1.452446,\n",
    "1.153722,\n",
    "0.916432,\n",
    "0.727948,\n",
    "0.578230,\n",
    "0.459304,\n",
    "0.364838,\n",
    "0.289801,\n",
    "0.230197,\n",
    "0.182852,\n",
    "0.145245,\n",
    "0.115372,]\n"
   ]
  },
  {
   "cell_type": "code",
   "execution_count": 87,
   "id": "caa01201",
   "metadata": {},
   "outputs": [
    {
     "name": "stdout",
     "output_type": "stream",
     "text": [
      "0\n",
      "1\n",
      "2\n",
      "3\n",
      "4\n",
      "5\n",
      "6\n",
      "7\n",
      "8\n",
      "9\n",
      "10\n",
      "11\n",
      "12\n",
      "13\n",
      "14\n",
      "15\n",
      "16\n",
      "17\n",
      "18\n",
      "19\n",
      "20\n",
      "21\n",
      "22\n"
     ]
    }
   ],
   "source": [
    "arr_I = np.zeros([len(arr_u)])\n",
    "\n",
    "for i in range(len(arr_u)):\n",
    "    arr_I[i] = q_computation(arr_u[i], x0d, y0d, z0d, hd, rwd, lxd, lyd, lzd)\n",
    "    print(i)"
   ]
  },
  {
   "cell_type": "markdown",
   "id": "1947d23f",
   "metadata": {},
   "source": [
    "Итак, зависимость $\\overline{q_D}(u)$ в пространстве Лапласа:"
   ]
  },
  {
   "cell_type": "code",
   "execution_count": 88,
   "id": "38baa483",
   "metadata": {},
   "outputs": [
    {
     "data": {
      "image/png": "[encoded data removed]",
      "text/plain": [
       "<Figure size 640x480 with 1 Axes>"
      ]
     },
     "metadata": {},
     "output_type": "display_data"
    }
   ],
   "source": [
    "plt.plot(arr_u, arr_I)\n",
    "plt.title('results', fontsize=12)\n",
    "plt.ylabel('$q$', fontsize=12)\n",
    "plt.xlabel('$u$', fontsize=12)\n",
    "plt.show()"
   ]
  },
  {
   "cell_type": "markdown",
   "id": "19ff686d",
   "metadata": {},
   "source": [
    "В целом, данная зависимость выглядит аналогично зависимости, получаемой в похожем полуаналитическом подходе при расчете давления в скважине, работающей с постоянным дебитом. Возможно, реализованный алгоритм жизнеспособен."
   ]
  },
  {
   "cell_type": "markdown",
   "id": "76c606f9",
   "metadata": {},
   "source": [
    "В вычислениях выше была выбрана достаточно грубая сетка, чтобы ускорить вычислительный процесс. Посмотрим, меняется ли значение интеграла по поверхности при изменении поверхности. Будет выбрано малое $u$, что соответсвует бОльшим временам в исходном пространстве и более стабильному течению:"
   ]
  },
  {
   "cell_type": "code",
   "execution_count": 97,
   "id": "e8bfe936",
   "metadata": {},
   "outputs": [
    {
     "data": {
      "text/plain": [
       "0.00010343559112538577"
      ]
     },
     "execution_count": 97,
     "metadata": {},
     "output_type": "execute_result"
    }
   ],
   "source": [
    "q_computation(0.018285, x0d, y0d, z0d, hd, rwd, lxd, 1 * lyd, 1 * lzd)"
   ]
  },
  {
   "cell_type": "code",
   "execution_count": 98,
   "id": "e2498e1b",
   "metadata": {},
   "outputs": [
    {
     "data": {
      "text/plain": [
       "0.0004121908609534882"
      ]
     },
     "execution_count": 98,
     "metadata": {},
     "output_type": "execute_result"
    }
   ],
   "source": [
    "q_computation(0.018285, x0d, y0d, z0d, hd, rwd, 2 * lxd, 2 * lyd, 2 * lzd)"
   ]
  },
  {
   "cell_type": "code",
   "execution_count": 99,
   "id": "082d20a1",
   "metadata": {},
   "outputs": [
    {
     "data": {
      "text/plain": [
       "0.0009240962449224764"
      ]
     },
     "execution_count": 99,
     "metadata": {},
     "output_type": "execute_result"
    }
   ],
   "source": [
    "q_computation(0.018285, x0d, y0d, z0d, hd, rwd, 2 * lxd, 3 * lyd, 3 * lzd)"
   ]
  },
  {
   "cell_type": "code",
   "execution_count": 101,
   "id": "73f41945",
   "metadata": {},
   "outputs": [
    {
     "data": {
      "text/plain": [
       "0.00046614281424908874"
      ]
     },
     "execution_count": 101,
     "metadata": {},
     "output_type": "execute_result"
    }
   ],
   "source": [
    "q_computation(0.018285, x0d, y0d, z0d, hd, rwd, 3 * lxd, 3 * lyd, 3 * lzd)"
   ]
  },
  {
   "cell_type": "markdown",
   "id": "a64346f0",
   "metadata": {},
   "source": [
    "По порядку величины результаты более-менее сходятся, отличие не более, чем в 10 раз. Это говорит о том, что сетка при вычислении двойного интеграла должна быть выбрана более мелкая, чтобы обеспечить результат получше. Но это приводит к большим временным затратам, поэтому для более качественного решения задачи необходима оптимизация расчетов и, возможно, другие вычислительные подходы."
   ]
  },
  {
   "cell_type": "code",
   "execution_count": null,
   "id": "a666fecd",
   "metadata": {},
   "outputs": [],
   "source": []
  }
 ],
 "metadata": {
  "kernelspec": {
   "display_name": "Python 3 (ipykernel)",
   "language": "python",
   "name": "python3"
  },
  "language_info": {
   "codemirror_mode": {
    "name": "ipython",
    "version": 3
   },
   "file_extension": ".py",
   "mimetype": "text/x-python",
   "name": "python",
   "nbconvert_exporter": "python",
   "pygments_lexer": "ipython3",
   "version": "3.9.13"
  }
 },
 "nbformat": 4,
 "nbformat_minor": 5
}
